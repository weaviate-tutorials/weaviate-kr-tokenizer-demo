{
 "cells": [
  {
   "cell_type": "code",
   "execution_count": 10,
   "metadata": {},
   "outputs": [],
   "source": [
    "import weaviate\n",
    "import os\n",
    "\n",
    "cohere_key = os.environ[\"COHERE_API_KEY\"]\n",
    "\n",
    "client = weaviate.connect_to_local(\n",
    "    headers={\"X-Cohere-Api-Key\": cohere_key}\n",
    ")"
   ]
  },
  {
   "cell_type": "code",
   "execution_count": 11,
   "metadata": {},
   "outputs": [],
   "source": [
    "if client.collections.exists(\"Wiki\"):\n",
    "    client.collections.delete(\"Wiki\")"
   ]
  },
  {
   "cell_type": "code",
   "execution_count": 12,
   "metadata": {},
   "outputs": [],
   "source": [
    "from weaviate.classes.config import Configure, Property, DataType, Tokenization\n",
    "\n",
    "wiki = client.collections.create(\n",
    "    name=\"Wiki\",\n",
    "    properties=[\n",
    "        Property(\n",
    "            name=\"title\",\n",
    "            data_type=DataType.TEXT,\n",
    "            tokenization=Tokenization.KAGOME_KR\n",
    "        ),\n",
    "        Property(\n",
    "            name=\"chunk_default_tokenizer\",\n",
    "            data_type=DataType.TEXT,\n",
    "        ),\n",
    "        Property(\n",
    "            name=\"chunk\",\n",
    "            data_type=DataType.TEXT,\n",
    "            tokenization=Tokenization.KAGOME_KR\n",
    "        ),\n",
    "    ],\n",
    "    vectorizer_config=[\n",
    "        Configure.NamedVectors.text2vec_cohere(\n",
    "            name=\"title\",\n",
    "            source_properties=[\"title\"],\n",
    "            model=\"embed-multilingual-v3.0\"\n",
    "        ),\n",
    "        Configure.NamedVectors.text2vec_cohere(\n",
    "            name=\"chunk\",\n",
    "            source_properties=[\"chunk\"],\n",
    "            model=\"embed-multilingual-v3.0\"\n",
    "        ),\n",
    "    ],\n",
    "    generative_config=Configure.Generative.cohere(model=\"command-r-plus\")\n",
    ")"
   ]
  },
  {
   "cell_type": "code",
   "execution_count": 13,
   "metadata": {},
   "outputs": [],
   "source": [
    "from pathlib import Path\n",
    "\n",
    "data_dir = Path(\"./data\")\n",
    "src_texts = [\n",
    "    {\"body\": txt_file.read_text(), \"title\": txt_file.stem}\n",
    "    for txt_file in data_dir.glob(\"*.txt\")\n",
    "]"
   ]
  },
  {
   "cell_type": "code",
   "execution_count": 14,
   "metadata": {},
   "outputs": [],
   "source": [
    "from typing import List\n",
    "\n",
    "def get_chunks_marker(text: str, marker: str = \"\\n\\n\") -> List[str]:\n",
    "    return text.split(marker)\n",
    "\n",
    "def get_chunks_fixed_size(text: str, chunk_size: int) -> List[str]:\n",
    "    overlap = int(chunk_size // 4)\n",
    "    return [text[i:i+chunk_size+overlap] for i in range(0, len(text), chunk_size)]\n",
    "\n",
    "def get_chunks(text: str) -> List[str]:\n",
    "    sections = get_chunks_marker(text)\n",
    "    chunks = []\n",
    "    for s in sections:\n",
    "        if len(s) > 100:\n",
    "            sub_chunks = get_chunks_fixed_size(s, 50)\n",
    "            chunks.extend(sub_chunks)\n",
    "        else:\n",
    "            chunks.append(s)\n",
    "    return chunks"
   ]
  },
  {
   "cell_type": "code",
   "execution_count": 15,
   "metadata": {},
   "outputs": [],
   "source": [
    "from weaviate.util import generate_uuid5\n",
    "\n",
    "with wiki.batch.fixed_size(batch_size=200) as batch:\n",
    "    for src_text in src_texts:\n",
    "        chunks = get_chunks(src_text[\"body\"])\n",
    "        for chunk in chunks:\n",
    "            batch.add_object(\n",
    "                properties={\n",
    "                    \"title\": src_text[\"title\"],\n",
    "                    \"chunk\": chunk,\n",
    "                },\n",
    "                uuid=generate_uuid5(chunk)\n",
    "            )"
   ]
  },
  {
   "cell_type": "code",
   "execution_count": 16,
   "metadata": {},
   "outputs": [
    {
     "data": {
      "text/plain": [
       "AggregateReturn(properties={}, total_count=416)"
      ]
     },
     "execution_count": 16,
     "metadata": {},
     "output_type": "execute_result"
    }
   ],
   "source": [
    "wiki.aggregate.over_all(total_count=True)"
   ]
  },
  {
   "cell_type": "code",
   "execution_count": 17,
   "metadata": {},
   "outputs": [
    {
     "name": "stdout",
     "output_type": "stream",
     "text": [
      "\n",
      "========== RESULT 1 ==========\n",
      "ARTICLE TITLE: preface\n",
      "CHUNK BODY: 적으로 머리말을 만들고 유지하는 기능을 제공하며 여기서 머리말은 페이지마다 동일할 수도 있고 페이지 번호와 같이...\n",
      "TRANSLATION: It provides the ability to create and maintain headers as an enemy, where the header can be the same...\n",
      "\n",
      "========== RESULT 2 ==========\n",
      "ARTICLE TITLE: preface\n",
      "CHUNK BODY: '''머리말''' 또는 '''머리글'''은 [[타이포그래피]]에서 본문과 구별되면서도 인쇄된 페이지의 꼭대기에 ...\n",
      "TRANSLATION: A '''preface''' or '''header''' is a distinct piece of text from the main body, appearing at the top...\n",
      "\n",
      "========== RESULT 3 ==========\n",
      "ARTICLE TITLE: preface\n",
      "CHUNK BODY: [[출판]]에서 머리말은 난외표제(running head)로도 불린다. 책에서의 일반적인 난외표제는 펼친 책의 ...\n",
      "TRANSLATION: In publishing, a frontispiece is also called a running head. A common running head in a book is a ti...\n"
     ]
    }
   ],
   "source": [
    "r = wiki.generate.bm25(\n",
    "    query=\"머리\",\n",
    "    query_properties=[\"chunk\"],\n",
    "    single_prompt=\"Return a translation of this into English (and nothing else): {chunk}\",\n",
    "    limit=3\n",
    ")\n",
    "for i, o in enumerate(r.objects):\n",
    "    print(f\"\\n========== RESULT {i+1} ==========\")\n",
    "    print(\"ARTICLE TITLE:\", o.properties[\"title\"])\n",
    "    print(\"CHUNK BODY:\", o.properties[\"chunk\"].replace(\"\\n\", \" \")[:100] + \"...\")\n",
    "    print(\"TRANSLATION:\", o.generated.replace(\"\\n\", \" \")[:100] + \"...\")"
   ]
  },
  {
   "cell_type": "code",
   "execution_count": 9,
   "metadata": {},
   "outputs": [
    {
     "name": "stdout",
     "output_type": "stream",
     "text": [
      "\n",
      "========== RESULT 1 ==========\n",
      "ARTICLE TITLE: head\n",
      "CHUNK BODY: 아주 단순한 동물의 경우 머리가 없는 것도 있으나 대부분의 [[좌우 대칭 동물류]]는 머리가 있다. [[척추동물...\n",
      "TRANSLATION: Even among very simple animals, some have no head, but most [[bilaterian]] animals have a head. [[ve...\n",
      "\n",
      "========== RESULT 2 ==========\n",
      "ARTICLE TITLE: head\n",
      "CHUNK BODY:  머리 그림]] '''머리'''({{llang|en|Head}})는 [[인간]]이나 [[동물]]의 [[목]] 위...\n",
      "TRANSLATION: 'Head' (in English) is the part of the body that is above the neck in humans and animals....\n",
      "\n",
      "========== RESULT 3 ==========\n",
      "ARTICLE TITLE: head\n",
      "CHUNK BODY:  있다. 동물의 머리는 '''대가리'''라고 부른다....\n",
      "TRANSLATION: There is a separate word for the head of an animal in Korean. The word is 'daegari'....\n"
     ]
    }
   ],
   "source": [
    "r = wiki.generate.bm25(\n",
    "    query=\"머리말\",\n",
    "    query_properties=[\"chunk\"],\n",
    "    single_prompt=\"Return a translation of this into English (and nothing else): {chunk}\",\n",
    "    limit=3\n",
    ")\n",
    "for i, o in enumerate(r.objects):\n",
    "    print(f\"\\n========== RESULT {i+1} ==========\")\n",
    "    print(\"ARTICLE TITLE:\", o.properties[\"title\"])\n",
    "    print(\"CHUNK BODY:\", o.properties[\"chunk\"].replace(\"\\n\", \" \")[:100] + \"...\")\n",
    "    print(\"TRANSLATION:\", o.generated.replace(\"\\n\", \" \")[:100] + \"...\")"
   ]
  },
  {
   "cell_type": "code",
   "execution_count": 12,
   "metadata": {},
   "outputs": [
    {
     "name": "stdout",
     "output_type": "stream",
     "text": [
      "\n",
      "========== RESULT 1 ==========\n",
      "ARTICLE TITLE: skull\n",
      "CHUNK BODY: == 구조 == [[파일:Lateral head skull.jpg|섬네일|왼쪽|머리의 구성]] 머리뼈는 얼굴을 ...\n",
      "TRANSLATION: == Structure == [[File:Lateral head skull.jpg|thumb|left|Composition of the head]] The skull is comp...\n",
      "\n",
      "========== RESULT 2 ==========\n",
      "ARTICLE TITLE: skull\n",
      "CHUNK BODY: ]] 머리뼈는 얼굴을 구성하고 머리뼈공간을 보호한다. [[뇌]]를 비롯하여 [[눈 (해부학)|눈]], [[귀]]...\n",
      "TRANSLATION: The skull forms the face and protects the cranial cavity. It houses the [[brain]], as well as the [[...\n",
      "\n",
      "========== RESULT 3 ==========\n",
      "ARTICLE TITLE: head\n",
      "CHUNK BODY: 아주 단순한 동물의 경우 머리가 없는 것도 있으나 대부분의 [[좌우 대칭 동물류]]는 머리가 있다. [[척추동물...\n",
      "TRANSLATION: Even among very simple animals, some have no head, but most [[bilaterians]] have a head. [[Vertebrat...\n"
     ]
    }
   ],
   "source": [
    "r = wiki.generate.bm25(\n",
    "    query=\"머리구성\",\n",
    "    query_properties=[\"chunk\"],\n",
    "    single_prompt=\"Return a translation of this into English (and nothing else): {chunk}\",\n",
    "    limit=3\n",
    ")\n",
    "for i, o in enumerate(r.objects):\n",
    "    print(f\"\\n========== RESULT {i+1} ==========\")\n",
    "    print(\"ARTICLE TITLE:\", o.properties[\"title\"])\n",
    "    print(\"CHUNK BODY:\", o.properties[\"chunk\"].replace(\"\\n\", \" \")[:100] + \"...\")\n",
    "    print(\"TRANSLATION:\", o.generated.replace(\"\\n\", \" \")[:100] + \"...\")"
   ]
  },
  {
   "cell_type": "code",
   "execution_count": 11,
   "metadata": {},
   "outputs": [
    {
     "name": "stdout",
     "output_type": "stream",
     "text": [
      "\n",
      "========== RESULT 1 ==========\n",
      "ARTICLE TITLE: preface\n",
      "CHUNK BODY: 적으로 머리말을 만들고 유지하는 기능을 제공하며 여기서 머리말은 페이지마다 동일할 수도 있고 페이지 번호와 같이...\n",
      "TRANSLATION: It provides the ability to create and maintain headers as an adversary, where headers can be the sam...\n",
      "\n",
      "========== RESULT 2 ==========\n",
      "ARTICLE TITLE: preface\n",
      "CHUNK BODY: '''머리말''' 또는 '''머리글'''은 [[타이포그래피]]에서 본문과 구별되면서도 인쇄된 페이지의 꼭대기에 ...\n",
      "TRANSLATION: A 'head' or 'heading' in typography is distinct from the main text while appearing at the top of a p...\n",
      "\n",
      "========== RESULT 3 ==========\n",
      "ARTICLE TITLE: preface\n",
      "CHUNK BODY: [[출판]]에서 머리말은 난외표제(running head)로도 불린다. 책에서의 일반적인 난외표제는 펼친 책의 ...\n",
      "TRANSLATION: In publishing, a frontispiece is also called a running head. A common running head in a book is a ti...\n"
     ]
    }
   ],
   "source": [
    "r = wiki.generate.bm25(\n",
    "    query=\"머리말구성\",\n",
    "    query_properties=[\"chunk\"],\n",
    "    single_prompt=\"Return a translation of this into English (and nothing else): {chunk}\",\n",
    "    limit=3\n",
    ")\n",
    "for i, o in enumerate(r.objects):\n",
    "    print(f\"\\n========== RESULT {i+1} ==========\")\n",
    "    print(\"ARTICLE TITLE:\", o.properties[\"title\"])\n",
    "    print(\"CHUNK BODY:\", o.properties[\"chunk\"].replace(\"\\n\", \" \")[:100] + \"...\")\n",
    "    print(\"TRANSLATION:\", o.generated.replace(\"\\n\", \" \")[:100] + \"...\")"
   ]
  },
  {
   "cell_type": "code",
   "execution_count": 18,
   "metadata": {},
   "outputs": [
    {
     "name": "stdout",
     "output_type": "stream",
     "text": [
      "GENERATED SUMMARY:\n",
      "- 머리말(Preface)은 타이포그래피에서 본문과 구분되면서도 인쇄된 페이지의 꼭대기에 위치하는 텍스트입니다. - Preface or '머리글' in Korean, is text that sits at the top of a printed page, distinct from the body text in typography.\n",
      "- 출판물에서 머리말은 난외표제(running head)라고도 불리며, 페이지 상단에 표시됩니다. - In publishing, prefaces are also called running heads, appearing at the top of pages.\n",
      "- 워드 처리 프로그램은 일반적으로 머리말을 만들고 관리하는 기능을 제공합니다. - Word processing programs typically offer tools to create and manage prefaces.\n",
      "- 머리말은 페이지마다 동일하거나 페이지 번호와 같이 달라질 수 있습니다. - Prefaces can remain the same or vary from page to page, such as with page numbers.\n",
      "\n",
      "========== RESULT 1 ==========\n",
      "ARTICLE TITLE: preface\n",
      "CHUNK BODY: 적으로 머리말을 만들고 유지하는 기능을 제공하며 여기서 머리말은 페이지마다 동일할 수도 있고 페이지 번호와 같이...\n",
      "\n",
      "========== RESULT 2 ==========\n",
      "ARTICLE TITLE: preface\n",
      "CHUNK BODY: '''머리말''' 또는 '''머리글'''은 [[타이포그래피]]에서 본문과 구별되면서도 인쇄된 페이지의 꼭대기에 ...\n",
      "\n",
      "========== RESULT 3 ==========\n",
      "ARTICLE TITLE: preface\n",
      "CHUNK BODY: [[출판]]에서 머리말은 난외표제(running head)로도 불린다. 책에서의 일반적인 난외표제는 펼친 책의 ...\n",
      "\n",
      "========== RESULT 4 ==========\n",
      "ARTICLE TITLE: preface\n",
      "CHUNK BODY: 된 페이지의 꼭대기에 보이는 글을 말한다. [[워드 프로세서|워드 처리 프로그램]]은 일반적으로 머리말을 만들고...\n",
      "\n",
      "========== RESULT 5 ==========\n",
      "ARTICLE TITLE: skull\n",
      "CHUNK BODY: == 구조 == [[파일:Lateral head skull.jpg|섬네일|왼쪽|머리의 구성]] 머리뼈는 얼굴을 ...\n",
      "\n",
      "========== RESULT 6 ==========\n",
      "ARTICLE TITLE: skull\n",
      "CHUNK BODY: ]] 머리뼈는 얼굴을 구성하고 머리뼈공간을 보호한다. [[뇌]]를 비롯하여 [[눈 (해부학)|눈]], [[귀]]...\n",
      "\n",
      "========== RESULT 7 ==========\n",
      "ARTICLE TITLE: literature\n",
      "CHUNK BODY: 문학은 오직 문자로 이루어진 텍스트로 구성된 것만을 포함한다. 좀 더 보수적인 사람들은 그 개념이 꼭 물리적인 ...\n",
      "\n",
      "========== RESULT 8 ==========\n",
      "ARTICLE TITLE: skull\n",
      "CHUNK BODY: 40쪽</ref> [[얼굴]]을 구성하고 [[뇌]]가 들어있는 [[머리뼈공간]](두개강, 頭蓋腔<ref grou...\n",
      "\n",
      "========== RESULT 9 ==========\n",
      "ARTICLE TITLE: human\n",
      "CHUNK BODY: 사람은 가족을 구성하기 위해 남녀가 짝을 이루며 이를 [[결혼]]이라고 하는데, 문화권에 따라 다르나 한 쌍의 ...\n"
     ]
    }
   ],
   "source": [
    "query = \"머리말구성\"\n",
    "r = wiki.generate.bm25(\n",
    "    query=query,\n",
    "    query_properties=[\"chunk\"],\n",
    "    grouped_task=f\"Summarise the findings here into a few bullet points about {query}. Each point should be a single sentence, and in Korean AND English.\",\n",
    "    limit=10\n",
    ")\n",
    "print(\"GENERATED SUMMARY:\")\n",
    "print(r.generated)\n",
    "for i, o in enumerate(r.objects):\n",
    "    print(f\"\\n========== RESULT {i+1} ==========\")\n",
    "    print(\"ARTICLE TITLE:\", o.properties[\"title\"])\n",
    "    print(\"CHUNK BODY:\", o.properties[\"chunk\"].replace(\"\\n\", \" \")[:100] + \"...\")"
   ]
  },
  {
   "cell_type": "code",
   "execution_count": 19,
   "metadata": {},
   "outputs": [
    {
     "name": "stdout",
     "output_type": "stream",
     "text": [
      "GENERATED SUMMARY:\n",
      "- 머리(Head)는 동물의 목 위에 위치하며, 머리뼈, 뇌, 눈, 귀를 포함합니다. - The head, located above the neck in animals, comprises the skull, brain, eyes, and ears.\n",
      "- 머리뼈(Skull)는 얼굴을 구성하며, 뇌를 포함한 머리뼈공간을 보호합니다. - The skull forms the face and safeguards the cranial cavity, housing the brain.\n",
      "- 척추동물의 배아 시기부터 신경관의 발달과 함께 머리가 형성됩니다. - Embryonic development in vertebrates marks the formation of the head alongside the growth of the neural tube.\n",
      "\n",
      "========== RESULT 1 ==========\n",
      "ARTICLE TITLE: skull\n",
      "CHUNK BODY: == 구조 == [[파일:Lateral head skull.jpg|섬네일|왼쪽|머리의 구성]] 머리뼈는 얼굴을 ...\n",
      "\n",
      "========== RESULT 2 ==========\n",
      "ARTICLE TITLE: skull\n",
      "CHUNK BODY: ]] 머리뼈는 얼굴을 구성하고 머리뼈공간을 보호한다. [[뇌]]를 비롯하여 [[눈 (해부학)|눈]], [[귀]]...\n",
      "\n",
      "========== RESULT 3 ==========\n",
      "ARTICLE TITLE: head\n",
      "CHUNK BODY: 아주 단순한 동물의 경우 머리가 없는 것도 있으나 대부분의 [[좌우 대칭 동물류]]는 머리가 있다. [[척추동물...\n",
      "\n",
      "========== RESULT 4 ==========\n",
      "ARTICLE TITLE: literature\n",
      "CHUNK BODY: 문학은 오직 문자로 이루어진 텍스트로 구성된 것만을 포함한다. 좀 더 보수적인 사람들은 그 개념이 꼭 물리적인 ...\n",
      "\n",
      "========== RESULT 5 ==========\n",
      "ARTICLE TITLE: head\n",
      "CHUNK BODY:  머리 그림]] '''머리'''({{llang|en|Head}})는 [[인간]]이나 [[동물]]의 [[목]] 위...\n",
      "\n",
      "========== RESULT 6 ==========\n",
      "ARTICLE TITLE: skull\n",
      "CHUNK BODY: 40쪽</ref> [[얼굴]]을 구성하고 [[뇌]]가 들어있는 [[머리뼈공간]](두개강, 頭蓋腔<ref grou...\n",
      "\n",
      "========== RESULT 7 ==========\n",
      "ARTICLE TITLE: human\n",
      "CHUNK BODY: 사람은 가족을 구성하기 위해 남녀가 짝을 이루며 이를 [[결혼]]이라고 하는데, 문화권에 따라 다르나 한 쌍의 ...\n",
      "\n",
      "========== RESULT 8 ==========\n",
      "ARTICLE TITLE: head\n",
      "CHUNK BODY:  있다. 동물의 머리는 '''대가리'''라고 부른다....\n",
      "\n",
      "========== RESULT 9 ==========\n",
      "ARTICLE TITLE: human\n",
      "CHUNK BODY: . 단, [[머리]] 윗부분, [[겨드랑이]], [[생식기]] 주위에는 각각 [[머리카락]], 겨드랑이 털, [...\n",
      "\n",
      "========== RESULT 10 ==========\n",
      "ARTICLE TITLE: head\n",
      "CHUNK BODY: 가 있다. [[척추동물]]은 [[배아]] 시기부터 [[신경관]]의 발달과 함께 머리가 형성된다. 척추동물 배아의...\n"
     ]
    }
   ],
   "source": [
    "query = \"머리구성\"\n",
    "r = wiki.generate.bm25(\n",
    "    query=query,\n",
    "    query_properties=[\"chunk\"],\n",
    "    grouped_task=f\"Summarise the findings here into a few bullet points about {query}. Each point should be a single sentence, and in Korean AND English.\",\n",
    "    limit=10\n",
    ")\n",
    "print(\"GENERATED SUMMARY:\")\n",
    "print(r.generated)\n",
    "for i, o in enumerate(r.objects):\n",
    "    print(f\"\\n========== RESULT {i+1} ==========\")\n",
    "    print(\"ARTICLE TITLE:\", o.properties[\"title\"])\n",
    "    print(\"CHUNK BODY:\", o.properties[\"chunk\"].replace(\"\\n\", \" \")[:100] + \"...\")"
   ]
  }
 ],
 "metadata": {
  "kernelspec": {
   "display_name": ".venv",
   "language": "python",
   "name": "python3"
  },
  "language_info": {
   "codemirror_mode": {
    "name": "ipython",
    "version": 3
   },
   "file_extension": ".py",
   "mimetype": "text/x-python",
   "name": "python",
   "nbconvert_exporter": "python",
   "pygments_lexer": "ipython3",
   "version": "3.10.14"
  }
 },
 "nbformat": 4,
 "nbformat_minor": 2
}
